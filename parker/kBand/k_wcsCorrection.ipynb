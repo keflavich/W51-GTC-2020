{
 "cells": [
  {
   "cell_type": "code",
   "execution_count": 2,
   "metadata": {},
   "outputs": [],
   "source": [
    "import numpy as np\n",
    "from astropy.io import fits\n",
    "from astropy.wcs import WCS\n",
    "import pylab as pl\n",
    "from astropy import visualization, coordinates, units as u\n",
    "from astroquery.vizier import Vizier\n",
    "from photutils import DAOStarFinder\n",
    "from astropy.wcs.utils import fit_wcs_from_points\n",
    "import glob\n",
    "import os\n",
    "\n",
    "from wcsFunction import findwcs"
   ]
  },
  {
   "cell_type": "code",
   "execution_count": 3,
   "metadata": {},
   "outputs": [
    {
     "name": "stdout",
     "output_type": "stream",
     "text": [
      "/orange/adamginsburg/w51/gtc/GTC2-20AFLO_0002_REDUCED/Ksh\n"
     ]
    }
   ],
   "source": [
    "cd /orange/adamginsburg/w51/gtc/GTC2-20AFLO_0002_REDUCED/Ksh"
   ]
  },
  {
   "cell_type": "code",
   "execution_count": 4,
   "metadata": {},
   "outputs": [],
   "source": [
    "files = [x for x in glob.glob(\"*.fits\") if \"STARE\" in x]"
   ]
  },
  {
   "cell_type": "code",
   "execution_count": 5,
   "metadata": {},
   "outputs": [
    {
     "data": {
      "text/plain": [
       "308"
      ]
     },
     "execution_count": 5,
     "metadata": {},
     "output_type": "execute_result"
    }
   ],
   "source": [
    "len(files)"
   ]
  },
  {
   "cell_type": "code",
   "execution_count": 6,
   "metadata": {},
   "outputs": [],
   "source": [
    "path = '/orange/adamginsburg/w51/gtc/parker//kBand/k_wcsCorrectedImages'"
   ]
  },
  {
   "cell_type": "code",
   "execution_count": 7,
   "metadata": {},
   "outputs": [],
   "source": [
    "for filename in files:\n",
    "    \n",
    "    filehandle = fits.open(filename)\n",
    "    filename_nosuffix = os.path.splitext(filename)[0]\n",
    "    new_filename = f'{path}/{filename_nosuffix}_wcs_corrected.fits'\n",
    "    \n",
    "    new_wcs, starcat, table_coordinates = findwcs(filehandle)\n",
    "    \n",
    "    filehandle[0].header.update(new_wcs.to_header(relax=True))\n",
    "    filehandle.writeto(f'{new_filename}')"
   ]
  },
  {
   "cell_type": "code",
   "execution_count": null,
   "metadata": {},
   "outputs": [],
   "source": []
  }
 ],
 "metadata": {
  "kernelspec": {
   "display_name": "Python 3",
   "language": "python",
   "name": "python3"
  },
  "language_info": {
   "codemirror_mode": {
    "name": "ipython",
    "version": 3
   },
   "file_extension": ".py",
   "mimetype": "text/x-python",
   "name": "python",
   "nbconvert_exporter": "python",
   "pygments_lexer": "ipython3",
   "version": "3.7.3"
  }
 },
 "nbformat": 4,
 "nbformat_minor": 4
}
